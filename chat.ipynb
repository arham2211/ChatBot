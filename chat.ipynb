{
 "cells": [
  {
   "cell_type": "code",
   "execution_count": 3,
   "metadata": {},
   "outputs": [
    {
     "name": "stderr",
     "output_type": "stream",
     "text": [
      "d:\\ChatBot\\.myenv\\Lib\\site-packages\\tqdm\\auto.py:21: TqdmWarning: IProgress not found. Please update jupyter and ipywidgets. See https://ipywidgets.readthedocs.io/en/stable/user_install.html\n",
      "  from .autonotebook import tqdm as notebook_tqdm\n"
     ]
    }
   ],
   "source": [
    "import os\n",
    "from langchain_groq import ChatGroq\n",
    "from langchain_community.document_loaders.csv_loader import CSVLoader\n",
    "from langchain.text_splitter import RecursiveCharacterTextSplitter\n",
    "from langchain.chains.combine_documents import create_stuff_documents_chain\n",
    "from langchain_core.prompts import ChatPromptTemplate\n",
    "from langchain.chains import create_retrieval_chain\n",
    "from langchain_google_genai import GoogleGenerativeAIEmbeddings\n",
    "from langchain_community.vectorstores import FAISS\n",
    "from flask import Flask, redirect, url_for, render_template, request\n",
    "from langchain.memory import ConversationBufferMemory"
   ]
  },
  {
   "cell_type": "code",
   "execution_count": 4,
   "metadata": {},
   "outputs": [],
   "source": [
    "from dotenv import load_dotenv\n",
    "\n",
    "load_dotenv()\n",
    "\n",
    "app = Flask(__name__)"
   ]
  },
  {
   "cell_type": "code",
   "execution_count": 5,
   "metadata": {},
   "outputs": [],
   "source": [
    "# Set Groq API key\n",
    "os.environ['GROQ_API_KEY'] = os.getenv(\"GROQ_API_KEY\")\n",
    "\n",
    "# Initialize the chat model with the Groq API key\n",
    "groq = ChatGroq(groq_api_key=os.environ['GROQ_API_KEY'], model_name=\"mixtral-8x7b-32768\")"
   ]
  },
  {
   "cell_type": "code",
   "execution_count": null,
   "metadata": {},
   "outputs": [
    {
     "name": "stdout",
     "output_type": "stream",
     "text": [
      "[Document(page_content='Question: What services does HnH Tech Solutions offer?\\nAnswer: HnH Tech Solutions offers services in designing and engineering software using mobile\\n: ', metadata={'source': './Company_data.csv', 'row': 0}), Document(page_content='Question: What industries does HnH Tech Solutions cater to?\\nAnswer: HnH Tech Solutions caters to industries such as healthcare\\n: and more.', metadata={'source': './Company_data.csv', 'row': 1}), Document(page_content='Question: How does HnH Tech Solutions approach software design?\\nAnswer: HnH Tech Solutions approaches software design with a focus on user experience\\n: ', metadata={'source': './Company_data.csv', 'row': 2}), Document(page_content='Question: What makes HnH Tech Solutions stand out from competitors?\\nAnswer: HnH Tech Solutions stands out due to its innovative solutions and customer-centric approach.\\n: ', metadata={'source': './Company_data.csv', 'row': 3}), Document(page_content='Question: Can HnH Tech Solutions develop cross-platform mobile apps?\\nAnswer: Yes\\n: ', metadata={'source': './Company_data.csv', 'row': 4}), Document(page_content='Question: Does HnH Tech Solutions provide maintenance services for software applications?\\nAnswer: Yes\\n: ', metadata={'source': './Company_data.csv', 'row': 5}), Document(page_content='Question: What programming languages does HnH Tech Solutions specialize in?\\nAnswer: HnH Tech Solutions specializes in programming languages such as JavaScript\\n: and more.', metadata={'source': './Company_data.csv', 'row': 6}), Document(page_content='Question: Can HnH Tech Solutions help with cloud migration?\\nAnswer: Yes\\n: and Google Cloud.', metadata={'source': './Company_data.csv', 'row': 7}), Document(page_content='Question: How does HnH Tech Solutions ensure the security of software applications?\\nAnswer: HnH Tech Solutions ensures security through practices such as code reviews\\n: ', metadata={'source': './Company_data.csv', 'row': 8}), Document(page_content='Question: Does HnH Tech Solutions offer consulting services for software development?\\nAnswer: Yes\\n: ', metadata={'source': './Company_data.csv', 'row': 9}), Document(page_content='Question: What is the typical timeline for developing a custom web application with HnH Tech Solutions?\\nAnswer: The timeline for developing a custom web application with HnH Tech Solutions varies based on the project requirements and complexity.\\n: ', metadata={'source': './Company_data.csv', 'row': 10}), Document(page_content='Question: How does HnH Tech Solutions approach project management?\\nAnswer: HnH Tech Solutions follows agile project management methodologies to ensure transparency and flexibility.\\n: ', metadata={'source': './Company_data.csv', 'row': 11}), Document(page_content='Question: Can HnH Tech Solutions integrate third-party APIs into software applications?\\nAnswer: Yes\\n: ', metadata={'source': './Company_data.csv', 'row': 12}), Document(page_content='Question: Does HnH Tech Solutions provide training for using software applications?\\nAnswer: Yes\\n: ', metadata={'source': './Company_data.csv', 'row': 13}), Document(page_content='Question: How does HnH Tech Solutions ensure the scalability of software applications?\\nAnswer: HnH Tech Solutions ensures scalability through the use of scalable architectures and technologies.\\n: ', metadata={'source': './Company_data.csv', 'row': 14}), Document(page_content='Question: What technologies does HnH Tech Solutions use for mobile app development?\\nAnswer: HnH Tech Solutions uses technologies like Swift\\n: ', metadata={'source': './Company_data.csv', 'row': 15}), Document(page_content='Question: Can HnH Tech Solutions develop AI-powered applications?\\nAnswer: Yes\\n: ', metadata={'source': './Company_data.csv', 'row': 16}), Document(page_content=\"Question: What is HnH Tech Solutions' approach to user interface design?\\nAnswer: HnH Tech Solutions focuses on creating intuitive and user-friendly interfaces for software applications.\\n: \", metadata={'source': './Company_data.csv', 'row': 17}), Document(page_content='Question: How does HnH Tech Solutions stay updated with the latest technologies?\\nAnswer: HnH Tech Solutions stays updated through continuous learning\\n: ', metadata={'source': './Company_data.csv', 'row': 18}), Document(page_content='Question: Can HnH Tech Solutions help with digital transformation initiatives?\\nAnswer: Yes\\n: ', metadata={'source': './Company_data.csv', 'row': 19}), Document(page_content='Question: What is the process for onboarding new clients at HnH Tech Solutions?\\nAnswer: The process for onboarding new clients at HnH Tech Solutions involves understanding their requirements and defining project milestones.\\n: ', metadata={'source': './Company_data.csv', 'row': 20}), Document(page_content='Question: Does HnH Tech Solutions offer support after the launch of a software application?\\nAnswer: Yes\\n: ', metadata={'source': './Company_data.csv', 'row': 21}), Document(page_content='Question: How does HnH Tech Solutions ensure the quality of software applications?\\nAnswer: HnH Tech Solutions ensures quality through rigorous testing and code reviews.\\n: ', metadata={'source': './Company_data.csv', 'row': 22}), Document(page_content='Question: Can HnH Tech Solutions help with legacy system modernization?\\nAnswer: Yes\\n: ', metadata={'source': './Company_data.csv', 'row': 23}), Document(page_content=\"Question: What is HnH Tech Solutions' approach to data security?\\nAnswer: HnH Tech Solutions follows best practices for data security\\n: \", metadata={'source': './Company_data.csv', 'row': 24}), Document(page_content='Question: Does HnH Tech Solutions offer prototype development services?\\nAnswer: Yes\\n: ', metadata={'source': './Company_data.csv', 'row': 25}), Document(page_content='Question: How does HnH Tech Solutions approach collaboration with clients?\\nAnswer: HnH Tech Solutions collaborates closely with clients to ensure their vision is realized in the final product.\\n: ', metadata={'source': './Company_data.csv', 'row': 26}), Document(page_content='Question: Can HnH Tech Solutions develop software for IoT devices?\\nAnswer: Yes\\n: ', metadata={'source': './Company_data.csv', 'row': 27}), Document(page_content='Question: What are the key factors HnH Tech Solutions considers when designing a software architecture?\\nAnswer: Key factors considered by HnH Tech Solutions include scalability\\n: ', metadata={'source': './Company_data.csv', 'row': 28}), Document(page_content='Question: Does HnH Tech Solutions provide performance optimization services for software applications?\\nAnswer: Yes\\n: ', metadata={'source': './Company_data.csv', 'row': 29}), Document(page_content='Question: How does HnH Tech Solutions ensure compliance with regulations such as GDPR?\\nAnswer: HnH Tech Solutions ensures compliance through adherence to regulations and implementation of data protection measures.\\n: ', metadata={'source': './Company_data.csv', 'row': 30}), Document(page_content='Question: Can HnH Tech Solutions develop custom CRM systems?\\nAnswer: Yes\\n: ', metadata={'source': './Company_data.csv', 'row': 31}), Document(page_content=\"Question: What is HnH Tech Solutions' approach to data analytics?\\nAnswer: HnH Tech Solutions uses advanced data mining techniques to extract valuable insights from data.\\n: \", metadata={'source': './Company_data.csv', 'row': 32}), Document(page_content='Question: Does HnH Tech Solutions offer cloud infrastructure management services?\\nAnswer: Yes\\n: ', metadata={'source': './Company_data.csv', 'row': 33}), Document(page_content='Question: How does HnH Tech Solutions approach software testing?\\nAnswer: HnH Tech Solutions follows a comprehensive testing process to identify and resolve issues early in the development cycle.\\n: ', metadata={'source': './Company_data.csv', 'row': 34}), Document(page_content='Question: Can HnH Tech Solutions help with website optimization for search engines?\\nAnswer: Yes\\n: ', metadata={'source': './Company_data.csv', 'row': 35}), Document(page_content=\"Question: What is HnH Tech Solutions' policy on intellectual property rights for software developed?\\nAnswer: HnH Tech Solutions respects intellectual property rights and ensures that clients retain ownership of the software developed.\\n: \", metadata={'source': './Company_data.csv', 'row': 36}), Document(page_content='Question: How does HnH Tech Solutions ensure the reliability of software applications?\\nAnswer: HnH Tech Solutions ensures reliability through thorough testing and quality assurance practices.\\n: ', metadata={'source': './Company_data.csv', 'row': 37}), Document(page_content='Question: Can HnH Tech Solutions develop custom e-commerce platforms?\\nAnswer: Yes\\n: ', metadata={'source': './Company_data.csv', 'row': 38}), Document(page_content=\"Question: What is HnH Tech Solutions' approach to software documentation?\\nAnswer: HnH Tech Solutions provides comprehensive documentation to aid in the understanding and maintenance of software applications.\\n: \", metadata={'source': './Company_data.csv', 'row': 39}), Document(page_content='Question: Does HnH Tech Solutions offer training for using software developed by them?\\nAnswer: Yes\\n: ', metadata={'source': './Company_data.csv', 'row': 40}), Document(page_content='Question: How does HnH Tech Solutions handle feedback and feature requests from clients?\\nAnswer: HnH Tech Solutions values client feedback and considers it in future updates and enhancements.\\n: ', metadata={'source': './Company_data.csv', 'row': 41}), Document(page_content='Question: Can HnH Tech Solutions help with data migration to new systems?\\nAnswer: Yes\\n: ', metadata={'source': './Company_data.csv', 'row': 42}), Document(page_content=\"Question: What is HnH Tech Solutions' approach to user feedback and usability testing?\\nAnswer: HnH Tech Solutions conducts usability testing and gathers user feedback to refine and improve software applications.\\n: \", metadata={'source': './Company_data.csv', 'row': 43}), Document(page_content='Question: Does HnH Tech Solutions offer mobile app maintenance services post-launch?\\nAnswer: Yes\\n: ', metadata={'source': './Company_data.csv', 'row': 44}), Document(page_content='Question: How does HnH Tech Solutions approach project cost estimation?\\nAnswer: HnH Tech Solutions provides detailed project cost estimates based on the scope and requirements of the project.\\n: ', metadata={'source': './Company_data.csv', 'row': 45}), Document(page_content='Question: Can HnH Tech Solutions help with digital marketing for software applications?\\nAnswer: Yes\\n: ', metadata={'source': './Company_data.csv', 'row': 46}), Document(page_content=\"Question: What is HnH Tech Solutions' approach to continuous improvement of software applications?\\nAnswer: HnH Tech Solutions continuously improves software applications based on user feedback and technological advancements.\\n: \", metadata={'source': './Company_data.csv', 'row': 47})]\n"
     ]
    }
   ],
   "source": [
    "loader = CSVLoader(file_path='./Company_data.csv',\n",
    "                   csv_args={\n",
    "                       \"delimiter\": \",\",\n",
    "                       \"quotechar\": '\"',\n",
    "                   },)\n",
    "\n",
    "data = loader.load()\n",
    "print(data)"
   ]
  },
  {
   "cell_type": "code",
   "execution_count": 14,
   "metadata": {},
   "outputs": [
    {
     "data": {
      "text/plain": [
       "48"
      ]
     },
     "execution_count": 14,
     "metadata": {},
     "output_type": "execute_result"
    }
   ],
   "source": [
    "documents = RecursiveCharacterTextSplitter(chunk_size=1000, chunk_overlap=200).split_documents(data)\n",
    "len(documents)"
   ]
  },
  {
   "cell_type": "code",
   "execution_count": 17,
   "metadata": {},
   "outputs": [
    {
     "name": "stdout",
     "output_type": "stream",
     "text": [
      "client=<google.ai.generativelanguage_v1beta.services.generative_service.client.GenerativeServiceClient object at 0x000002820BDC04A0> model='models/embedding-001' task_type=None google_api_key=None credentials=None client_options=None transport=None request_options=None\n"
     ]
    }
   ],
   "source": [
    "embeddings = GoogleGenerativeAIEmbeddings(api_key=os.getenv('GOOGLE_API_KEY'), model=\"models/embedding-001\")\n",
    "print(embeddings)"
   ]
  },
  {
   "cell_type": "code",
   "execution_count": 18,
   "metadata": {},
   "outputs": [],
   "source": [
    "vectordb = FAISS.from_documents(documents, embedding=embeddings)\n",
    "vectordb.save_local(\"faiss_index\")"
   ]
  },
  {
   "cell_type": "code",
   "execution_count": 19,
   "metadata": {},
   "outputs": [],
   "source": [
    "prompt = ChatPromptTemplate.from_template(\"\"\"\n",
    "Context: HnH Tech Solutions is a company specializing in designing and engineering software using mobile, web, \n",
    "and cloud technologies. They focus on custom web applications, mobile apps, and data mining techniques. \n",
    "Your task is to create a chatbot that can maintain a conversation with users. The chatbot should provide accurate answers based \n",
    "on the provided context, search the context thoroughly before answering, think step-by-step before delivering a detailed answer, \n",
    "and not include any additional information such as company data unless specifically asked for.\n",
    "\n",
    "Instructions:\n",
    "\n",
    "The chatbot should be able to respond to a variety of questions related to the company's services, technologies, approach, and more.\n",
    "Ensure that the chatbot's responses are detailed and informative, providing valuable insights to the users.\n",
    "If the requested information is not available in the provided context, the chatbot should respond with \"The information you are asking for is not available in the company data.\"\n",
    "\n",
    "<context>\n",
    "{context}\n",
    "</context>\n",
    "                                          \n",
    "Question: {input}\n",
    "\"\"\")\n"
   ]
  },
  {
   "cell_type": "code",
   "execution_count": 20,
   "metadata": {},
   "outputs": [],
   "source": [
    "# Create the document chain\n",
    "document_chain = create_stuff_documents_chain(groq, prompt)\n",
    "\n",
    "# Retriever\n",
    "retriever = vectordb.as_retriever()\n",
    "\n",
    "# Retrieval Chain\n",
    "retrieval_chain = create_retrieval_chain(retriever, document_chain)\n",
    "\n",
    "# Define a memory with a buffer size of 2 to store the last 2 responses\n",
    "memory = ConversationBufferMemory()"
   ]
  },
  {
   "cell_type": "code",
   "execution_count": 21,
   "metadata": {},
   "outputs": [],
   "source": [
    "@app.route('/')\n",
    "def index():\n",
    "    return render_template('index.html')\n",
    "\n",
    "@app.route(\"/get\", methods=[\"POST\"])\n",
    "def chat():\n",
    "    msg = request.form[\"msg\"]\n",
    "    input = msg\n",
    "    print(input)\n",
    "\n",
    "    # Invoke retrieval chain with input and context\n",
    "    response = retrieval_chain.invoke({\"input\":input})\n",
    "    answer = response.get('answer')\n",
    "    \n",
    "    # Store input and answer in memory\n",
    "    memory.chat_memory.add_user_message(input)\n",
    "    memory.chat_memory.add_ai_message(answer)\n",
    "\n",
    "    print(\"Response: \", answer)\n",
    "    return str(answer)"
   ]
  },
  {
   "cell_type": "code",
   "execution_count": null,
   "metadata": {},
   "outputs": [],
   "source": []
  }
 ],
 "metadata": {
  "kernelspec": {
   "display_name": ".myenv",
   "language": "python",
   "name": "python3"
  },
  "language_info": {
   "codemirror_mode": {
    "name": "ipython",
    "version": 3
   },
   "file_extension": ".py",
   "mimetype": "text/x-python",
   "name": "python",
   "nbconvert_exporter": "python",
   "pygments_lexer": "ipython3",
   "version": "3.12.3"
  }
 },
 "nbformat": 4,
 "nbformat_minor": 2
}
